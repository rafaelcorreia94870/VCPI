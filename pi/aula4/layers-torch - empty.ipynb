{
 "cells": [
  {
   "cell_type": "markdown",
   "metadata": {},
   "source": [
    "# Layers\n",
    "\n",
    "This notebook introduces a set of layers commonly found in CNNs:\n",
    "\n",
    "- Batch Normalization\n",
    "- Dropout\n",
    "- Pooling\n",
    "\n",
    "\n",
    "\n",
    "## References\n",
    "\n",
    "### Batch Normalization\n",
    "- Original paper: Batch Normalization: Accelerating Deep Network Training by Reducing Internal Covariate Shift\n",
    "Sergey Ioffe, Christian Szegedy\n",
    "https://arxiv.org/abs/1502.03167\n",
    "\n",
    "- Video [Why does Batch Norm work?](https://www.youtube.com/watch?v=nUUqwaxLnWs) Andrew Ng\n",
    "\n",
    "- PyTorch: \n",
    "torch.nn.BatchNorm2d\n",
    "https://pytorch.org/docs/stable/generated/torch.nn.BatchNorm2d.html\n",
    "\n",
    "\n",
    "- A Gentle Introduction to Batch Normalization for Deep Neural Networks, Jason Brownlee, https://machinelearningmastery.com/batch-normalization-for-training-of-deep-neural-networks/\n",
    "\n",
    "### Dropout\n",
    "- Original paper: Improving neural networks by preventing co-adaptation of feature detectors (2012)\n",
    "G. E. Hinton∗ , N. Srivastava, A. Krizhevsky, I. Sutskever and R. R. Salakhutdinov\n",
    "https://arxiv.org/pdf/1207.0580.pdf\n",
    "\n",
    "- More evaluation: Dropout: A Simple Way to Prevent Neural Networks from Overfitting (2014)\n",
    "Nitish Srivastava, Geoffrey Hinton, Alex Krizhevsky, Ilya Sutskever, Ruslan Salakhutdinov\n",
    "https://jmlr.org/papers/v15/srivastava14a.html\n",
    "\n",
    "- A Gentler Article: A Gentle Introduction to Dropout for Regularizing Deep Neural Networks (2018)\n",
    "Jason Brownlee\n",
    "https://machinelearningmastery.com/dropout-for-regularizing-deep-neural-networks/\n",
    "\n",
    "- Another Gentle Article: Understanding And Implementing Dropout In TensorFlow And Keras\n",
    "Richmond Alake\n",
    "https://towardsdatascience.com/understanding-and-implementing-dropout-in-tensorflow-and-keras-a8a3a02c1bfa\n",
    "\n",
    "\n",
    "### Pooling\n",
    "\n",
    "- Evaluation of Pooling Operations in Convolutional Architectures for Object Recognition\n",
    "Dominik Scherer, Andreas Muller, and Sven Behnke\n",
    "http://ais.uni-bonn.de/papers/icann2010_maxpool.pdf\n",
    "\n",
    "- An alernative to pooling: Striving for Simplicity: The All Convolutional Net, Jost Tobias Springenberg, Alexey Dosovitskiy, Thomas Brox, Martin Riedmiller, https://arxiv.org/abs/1412.6806\n",
    "\n",
    "- A Gentle Introduction to Pooling Layers for Convolutional Neural Networks, Jason Brownlee, https://machinelearningmastery.com/pooling-layers-for-convolutional-neural-networks/\n",
    "\n",
    "\n"
   ]
  },
  {
   "cell_type": "code",
   "execution_count": 1,
   "metadata": {},
   "outputs": [],
   "source": [
    "import torch\n",
    "import torchvision\n",
    "import torchvision.transforms as transforms\n",
    "\n",
    "import torchinfo\n",
    "\n",
    "import matplotlib.pyplot as plt\n",
    "import numpy as np\n",
    "import time\n",
    "\n",
    "# importing a module with utilities for displaying stats and data\n",
    "import sys\n",
    "sys.path.insert(1, '../util')\n",
    "import vcpi_util"
   ]
  }
 ],
 "metadata": {
  "kernelspec": {
   "display_name": "Python 3",
   "language": "python",
   "name": "python3"
  },
  "language_info": {
   "codemirror_mode": {
    "name": "ipython",
    "version": 3
   },
   "file_extension": ".py",
   "mimetype": "text/x-python",
   "name": "python",
   "nbconvert_exporter": "python",
   "pygments_lexer": "ipython3",
   "version": "3.11.3"
  }
 },
 "nbformat": 4,
 "nbformat_minor": 2
}
